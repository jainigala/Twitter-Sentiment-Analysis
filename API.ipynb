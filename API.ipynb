{
  "nbformat": 4,
  "nbformat_minor": 0,
  "metadata": {
    "colab": {
      "name": "API.ipynb",
      "provenance": []
    },
    "kernelspec": {
      "name": "python3",
      "display_name": "Python 3"
    },
    "language_info": {
      "name": "python"
    }
  },
  "cells": [
    {
      "cell_type": "code",
      "metadata": {
        "id": "F0xWHw8wuU0r"
      },
      "source": [
        "from tweepy import *\n",
        " \n",
        "import pandas as pd\n",
        "import csv\n",
        "import re \n",
        "import string\n",
        "import preprocessor as p\n",
        " \n",
        "consumer_key = \n",
        "consumer_secret = \n",
        "access_key= \n",
        "access_secret = \n",
        " \n",
        "auth = tweepy.OAuthHandler(consumer_key, consumer_secret)\n",
        "auth.set_access_token(access_key, access_secret)\n",
        " \n",
        "api = tweepy.API(auth,wait_on_rate_limit=True)\n",
        " \n",
        "csvFile = open('file-name', 'test')\n",
        "csvWriter = csv.writer(csvFile)\n",
        " \n",
        "search_words = \" \"      # enter your words\n",
        "new_search = search_words + \" -filter:retweets\"\n",
        " \n",
        "for tweet in tweepy.Cursor(api.search,q=new_search,count=100,\n",
        "                           lang=\"en\",\n",
        "                           since_id=0).items():\n",
        "    csvWriter.writerow([tweet.created_at, tweet.text.encode('utf-8'),tweet.user.screen_name.encode('utf-8'), tweet.user.location.encode('utf-8')])"
      ],
      "execution_count": null,
      "outputs": []
    }
  ]
}